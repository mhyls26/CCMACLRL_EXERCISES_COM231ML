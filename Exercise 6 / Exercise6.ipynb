{
  "cells": [
    {
      "cell_type": "markdown",
      "metadata": {
        "id": "view-in-github",
        "colab_type": "text"
      },
      "source": [
        "<a href=\"https://colab.research.google.com/github/mhyls26/CCMACLRL_EXERCISES_COM231ML/blob/main/Exercise%206%20/%20Exercise6.ipynb\" target=\"_parent\"><img src=\"https://colab.research.google.com/assets/colab-badge.svg\" alt=\"Open In Colab\"/></a>"
      ]
    },
    {
      "cell_type": "markdown",
      "source": [
        "## Exercise 6: Choosing the best performing model on a dataset\n",
        "\n",
        "Instructions:\n",
        "\n",
        "- Use the Dataset File to train your model\n",
        "- Use the Test File to generate your results\n",
        "- Use the Sample Submission file to generate the same format\n",
        "- Use all Regression models\n",
        "\n",
        "Submit your results to:\n",
        "https://www.kaggle.com/competitions/house-prices-advanced-regression-techniques/overview\n",
        "\n"
      ],
      "metadata": {
        "id": "99_2rPCJrNfK"
      }
    },
    {
      "cell_type": "code",
      "execution_count": 140,
      "metadata": {
        "id": "R_se3V8gftVL"
      },
      "outputs": [],
      "source": [
        "import pandas as pd\n",
        "import numpy as np\n",
        "import seaborn as sns\n",
        "import matplotlib.pyplot as plt\n",
        "\n",
        "from sklearn.model_selection import train_test_split, cross_val_score\n",
        "from sklearn.preprocessing import LabelEncoder\n",
        "from sklearn.impute import SimpleImputer\n",
        "\n",
        "from sklearn.neighbors import KNeighborsRegressor\n",
        "from sklearn.svm import SVR\n",
        "from sklearn.tree import DecisionTreeRegressor\n",
        "from sklearn.ensemble import RandomForestRegressor\n",
        "\n",
        "from sklearn.metrics import mean_squared_error"
      ]
    },
    {
      "cell_type": "markdown",
      "metadata": {
        "id": "eCNNEXIhftVN"
      },
      "source": [
        "## Dataset File"
      ]
    },
    {
      "cell_type": "code",
      "execution_count": 141,
      "metadata": {
        "id": "-Cqj3uEkftVO"
      },
      "outputs": [],
      "source": [
        "train_data = 'https://github.com/robitussin/CCMACLRL_EXERCISES/blob/3fd7d51ffd17863598ac3f44eeefc558171a5b73/dataset/house-prices-advanced-regression-techniques/train.csv?raw=true'\n",
        "df = pd.read_csv(train_data)"
      ]
    },
    {
      "cell_type": "markdown",
      "metadata": {
        "id": "mLFiGySNftVP"
      },
      "source": [
        "## Test File"
      ]
    },
    {
      "cell_type": "code",
      "execution_count": 142,
      "metadata": {
        "id": "7pKmP53fftVP"
      },
      "outputs": [],
      "source": [
        "test_url = 'https://github.com/robitussin/CCMACLRL_EXERCISES/blob/3fd7d51ffd17863598ac3f44eeefc558171a5b73/dataset/house-prices-advanced-regression-techniques/test.csv?raw=true'\n",
        "dt=pd.read_csv(test_url)"
      ]
    },
    {
      "cell_type": "code",
      "source": [
        "dt.info()"
      ],
      "metadata": {
        "colab": {
          "base_uri": "https://localhost:8080/"
        },
        "id": "2f11HsMzqEvJ",
        "outputId": "ebd39bfd-5f69-485b-8082-a5337efe7273"
      },
      "execution_count": 143,
      "outputs": [
        {
          "output_type": "stream",
          "name": "stdout",
          "text": [
            "<class 'pandas.core.frame.DataFrame'>\n",
            "RangeIndex: 1459 entries, 0 to 1458\n",
            "Data columns (total 80 columns):\n",
            " #   Column         Non-Null Count  Dtype  \n",
            "---  ------         --------------  -----  \n",
            " 0   Id             1459 non-null   int64  \n",
            " 1   MSSubClass     1459 non-null   int64  \n",
            " 2   MSZoning       1455 non-null   object \n",
            " 3   LotFrontage    1232 non-null   float64\n",
            " 4   LotArea        1459 non-null   int64  \n",
            " 5   Street         1459 non-null   object \n",
            " 6   Alley          107 non-null    object \n",
            " 7   LotShape       1459 non-null   object \n",
            " 8   LandContour    1459 non-null   object \n",
            " 9   Utilities      1457 non-null   object \n",
            " 10  LotConfig      1459 non-null   object \n",
            " 11  LandSlope      1459 non-null   object \n",
            " 12  Neighborhood   1459 non-null   object \n",
            " 13  Condition1     1459 non-null   object \n",
            " 14  Condition2     1459 non-null   object \n",
            " 15  BldgType       1459 non-null   object \n",
            " 16  HouseStyle     1459 non-null   object \n",
            " 17  OverallQual    1459 non-null   int64  \n",
            " 18  OverallCond    1459 non-null   int64  \n",
            " 19  YearBuilt      1459 non-null   int64  \n",
            " 20  YearRemodAdd   1459 non-null   int64  \n",
            " 21  RoofStyle      1459 non-null   object \n",
            " 22  RoofMatl       1459 non-null   object \n",
            " 23  Exterior1st    1458 non-null   object \n",
            " 24  Exterior2nd    1458 non-null   object \n",
            " 25  MasVnrType     565 non-null    object \n",
            " 26  MasVnrArea     1444 non-null   float64\n",
            " 27  ExterQual      1459 non-null   object \n",
            " 28  ExterCond      1459 non-null   object \n",
            " 29  Foundation     1459 non-null   object \n",
            " 30  BsmtQual       1415 non-null   object \n",
            " 31  BsmtCond       1414 non-null   object \n",
            " 32  BsmtExposure   1415 non-null   object \n",
            " 33  BsmtFinType1   1417 non-null   object \n",
            " 34  BsmtFinSF1     1458 non-null   float64\n",
            " 35  BsmtFinType2   1417 non-null   object \n",
            " 36  BsmtFinSF2     1458 non-null   float64\n",
            " 37  BsmtUnfSF      1458 non-null   float64\n",
            " 38  TotalBsmtSF    1458 non-null   float64\n",
            " 39  Heating        1459 non-null   object \n",
            " 40  HeatingQC      1459 non-null   object \n",
            " 41  CentralAir     1459 non-null   object \n",
            " 42  Electrical     1459 non-null   object \n",
            " 43  1stFlrSF       1459 non-null   int64  \n",
            " 44  2ndFlrSF       1459 non-null   int64  \n",
            " 45  LowQualFinSF   1459 non-null   int64  \n",
            " 46  GrLivArea      1459 non-null   int64  \n",
            " 47  BsmtFullBath   1457 non-null   float64\n",
            " 48  BsmtHalfBath   1457 non-null   float64\n",
            " 49  FullBath       1459 non-null   int64  \n",
            " 50  HalfBath       1459 non-null   int64  \n",
            " 51  BedroomAbvGr   1459 non-null   int64  \n",
            " 52  KitchenAbvGr   1459 non-null   int64  \n",
            " 53  KitchenQual    1458 non-null   object \n",
            " 54  TotRmsAbvGrd   1459 non-null   int64  \n",
            " 55  Functional     1457 non-null   object \n",
            " 56  Fireplaces     1459 non-null   int64  \n",
            " 57  FireplaceQu    729 non-null    object \n",
            " 58  GarageType     1383 non-null   object \n",
            " 59  GarageYrBlt    1381 non-null   float64\n",
            " 60  GarageFinish   1381 non-null   object \n",
            " 61  GarageCars     1458 non-null   float64\n",
            " 62  GarageArea     1458 non-null   float64\n",
            " 63  GarageQual     1381 non-null   object \n",
            " 64  GarageCond     1381 non-null   object \n",
            " 65  PavedDrive     1459 non-null   object \n",
            " 66  WoodDeckSF     1459 non-null   int64  \n",
            " 67  OpenPorchSF    1459 non-null   int64  \n",
            " 68  EnclosedPorch  1459 non-null   int64  \n",
            " 69  3SsnPorch      1459 non-null   int64  \n",
            " 70  ScreenPorch    1459 non-null   int64  \n",
            " 71  PoolArea       1459 non-null   int64  \n",
            " 72  PoolQC         3 non-null      object \n",
            " 73  Fence          290 non-null    object \n",
            " 74  MiscFeature    51 non-null     object \n",
            " 75  MiscVal        1459 non-null   int64  \n",
            " 76  MoSold         1459 non-null   int64  \n",
            " 77  YrSold         1459 non-null   int64  \n",
            " 78  SaleType       1458 non-null   object \n",
            " 79  SaleCondition  1459 non-null   object \n",
            "dtypes: float64(11), int64(26), object(43)\n",
            "memory usage: 912.0+ KB\n"
          ]
        }
      ]
    },
    {
      "cell_type": "markdown",
      "metadata": {
        "id": "ntGpbsBg8hft"
      },
      "source": [
        "## Sample Submission File"
      ]
    },
    {
      "cell_type": "code",
      "execution_count": 144,
      "metadata": {
        "id": "-5Dwtw_w3U8W"
      },
      "outputs": [],
      "source": [
        "sample_submission_url ='https://github.com/robitussin/CCMACLRL_EXERCISES/blob/3fd7d51ffd17863598ac3f44eeefc558171a5b73/dataset/house-prices-advanced-regression-techniques/sample_submission.csv?raw=true'\n",
        "\n",
        "sf=pd.read_csv(sample_submission_url)"
      ]
    },
    {
      "cell_type": "code",
      "source": [
        "sf.info()"
      ],
      "metadata": {
        "colab": {
          "base_uri": "https://localhost:8080/"
        },
        "id": "K1_62qZBqLjV",
        "outputId": "a1938638-57f9-4278-8ea6-2cbc0215b556"
      },
      "execution_count": 145,
      "outputs": [
        {
          "output_type": "stream",
          "name": "stdout",
          "text": [
            "<class 'pandas.core.frame.DataFrame'>\n",
            "RangeIndex: 1459 entries, 0 to 1458\n",
            "Data columns (total 2 columns):\n",
            " #   Column     Non-Null Count  Dtype  \n",
            "---  ------     --------------  -----  \n",
            " 0   Id         1459 non-null   int64  \n",
            " 1   SalePrice  1459 non-null   float64\n",
            "dtypes: float64(1), int64(1)\n",
            "memory usage: 22.9 KB\n"
          ]
        }
      ]
    },
    {
      "cell_type": "markdown",
      "source": [],
      "metadata": {
        "id": "7nNjd6aErISr"
      }
    },
    {
      "cell_type": "code",
      "source": [
        "for col in df.select_dtypes(include=['object']).columns:\n",
        "    df[col] = df[col].fillna(\"Missing\")\n",
        "    dt[col] = dt[col].fillna(\"Missing\")\n",
        "\n",
        "    le = LabelEncoder()\n",
        "    le.fit(pd.concat([df[col], dt[col]], axis=0))\n",
        "\n",
        "    df[col] = le.transform(df[col])\n",
        "    dt[col] = le.transform(dt[col])"
      ],
      "metadata": {
        "id": "DtqJH7yPrHSm"
      },
      "execution_count": 146,
      "outputs": []
    },
    {
      "cell_type": "code",
      "source": [
        "for col in df.select_dtypes(include=[np.number]).columns:\n",
        "    df[col] = df[col].fillna(df[col].median())\n",
        "for col in dt.select_dtypes(include=[np.number]).columns:\n",
        "    dt[col] = dt[col].fillna(dt[col].median())"
      ],
      "metadata": {
        "id": "Q4hYkohpxbnL"
      },
      "execution_count": 147,
      "outputs": []
    },
    {
      "cell_type": "code",
      "source": [
        "X = df.drop([\"SalePrice\", \"Id\"], axis=1)\n",
        "y = df[\"SalePrice\"]"
      ],
      "metadata": {
        "id": "X_PySf6jxeBk"
      },
      "execution_count": 148,
      "outputs": []
    },
    {
      "cell_type": "code",
      "source": [
        "X_train, X_val, y_train, y_val = train_test_split(X, y, test_size=0.2, random_state=42)"
      ],
      "metadata": {
        "id": "fzGUPS95xeZ-"
      },
      "execution_count": 149,
      "outputs": []
    },
    {
      "cell_type": "markdown",
      "source": [
        "## 1. Train a KNN Regressor"
      ],
      "metadata": {
        "id": "19dHs7ZprqHd"
      }
    },
    {
      "cell_type": "code",
      "source": [
        "knn = KNeighborsRegressor(n_neighbors=5)\n",
        "knn.fit(X_train, y_train)\n",
        "knn_pred = knn.predict(X_val)\n",
        "knn_rmse = np.sqrt(mean_squared_error(y_val, knn_pred))\n",
        "print(\"KNN RMSE:\", knn_rmse)"
      ],
      "metadata": {
        "id": "sfo3q7hjru-k",
        "colab": {
          "base_uri": "https://localhost:8080/"
        },
        "outputId": "61132d73-281c-4877-e060-e32ede2744a9"
      },
      "execution_count": 150,
      "outputs": [
        {
          "output_type": "stream",
          "name": "stdout",
          "text": [
            "KNN RMSE: 47678.1071324634\n"
          ]
        }
      ]
    },
    {
      "cell_type": "markdown",
      "source": [
        "- Perform cross validation"
      ],
      "metadata": {
        "id": "lqPzPhIs0zjf"
      }
    },
    {
      "cell_type": "code",
      "source": [
        "knn_cv_rmse = -cross_val_score(knn, X, y, cv=5, scoring=\"neg_root_mean_squared_error\").mean()\n",
        "print(\"KNN CV RMSE:\", knn_cv_rmse)"
      ],
      "metadata": {
        "id": "Xz-BV38o04PL",
        "colab": {
          "base_uri": "https://localhost:8080/"
        },
        "outputId": "4a2bb5aa-5bcf-4a8e-a962-3de4a27295d7"
      },
      "execution_count": 151,
      "outputs": [
        {
          "output_type": "stream",
          "name": "stdout",
          "text": [
            "KNN CV RMSE: 47004.09670873701\n"
          ]
        }
      ]
    },
    {
      "cell_type": "markdown",
      "source": [
        "## 2. Train a SVM Regression"
      ],
      "metadata": {
        "id": "GlMLKDF_rvUM"
      }
    },
    {
      "cell_type": "code",
      "source": [
        "svm = SVR(kernel=\"rbf\")\n",
        "svm.fit(X_train, y_train)\n",
        "svm_pred = svm.predict(X_val)\n",
        "svm_rmse = np.sqrt(mean_squared_error(y_val, svm_pred))\n",
        "print(\"SVM RMSE:\", svm_rmse)"
      ],
      "metadata": {
        "id": "0MJX8VBysFxR",
        "colab": {
          "base_uri": "https://localhost:8080/"
        },
        "outputId": "91b3fdb1-5d5d-4a7b-a5c8-b05356a22748"
      },
      "execution_count": 152,
      "outputs": [
        {
          "output_type": "stream",
          "name": "stdout",
          "text": [
            "SVM RMSE: 88652.804331602\n"
          ]
        }
      ]
    },
    {
      "cell_type": "markdown",
      "source": [
        "- Perform cross validation"
      ],
      "metadata": {
        "id": "-wzEMe9J1DSe"
      }
    },
    {
      "cell_type": "code",
      "source": [
        "svm_cv_rmse = -cross_val_score(svm, X, y, cv=5, scoring=\"neg_root_mean_squared_error\").mean()\n",
        "print(\"SVM CV RMSE:\", svm_cv_rmse)"
      ],
      "metadata": {
        "id": "dPJlm2S-1Dqe",
        "colab": {
          "base_uri": "https://localhost:8080/"
        },
        "outputId": "494c1f9f-17b8-469a-dcc9-cb3ceb775e79"
      },
      "execution_count": 153,
      "outputs": [
        {
          "output_type": "stream",
          "name": "stdout",
          "text": [
            "SVM CV RMSE: 81143.80317974449\n"
          ]
        }
      ]
    },
    {
      "cell_type": "markdown",
      "source": [
        "## 3. Train a Decision Tree Regression"
      ],
      "metadata": {
        "id": "8n-ScOLqze60"
      }
    },
    {
      "cell_type": "code",
      "source": [
        "dtree = DecisionTreeRegressor(random_state=42)\n",
        "dtree.fit(X_train, y_train)\n",
        "dtree_pred = dtree.predict(X_val)\n",
        "dtree_rmse = np.sqrt(mean_squared_error(y_val, dtree_pred))\n",
        "print(\"Decision Tree RMSE:\", dtree_rmse)"
      ],
      "metadata": {
        "id": "fqLNJkoHzfL4",
        "colab": {
          "base_uri": "https://localhost:8080/"
        },
        "outputId": "8f4a319c-a930-4a9b-f6d6-3355e65e8af5"
      },
      "execution_count": 154,
      "outputs": [
        {
          "output_type": "stream",
          "name": "stdout",
          "text": [
            "Decision Tree RMSE: 44508.93235921133\n"
          ]
        }
      ]
    },
    {
      "cell_type": "markdown",
      "source": [
        "- Perform cross validation"
      ],
      "metadata": {
        "id": "5dkFpQ2j1GUO"
      }
    },
    {
      "cell_type": "code",
      "source": [
        "dtree_cv_rmse = -cross_val_score(dtree, X, y, cv=5, scoring=\"neg_root_mean_squared_error\").mean()\n",
        "print(\"Decision Tree CV RMSE:\", dtree_cv_rmse)"
      ],
      "metadata": {
        "id": "hOXY4nc71Gk5",
        "colab": {
          "base_uri": "https://localhost:8080/"
        },
        "outputId": "261f8e7a-458c-44e2-f34e-a2b0dcb8fb5a"
      },
      "execution_count": 155,
      "outputs": [
        {
          "output_type": "stream",
          "name": "stdout",
          "text": [
            "Decision Tree CV RMSE: 42703.92723506582\n"
          ]
        }
      ]
    },
    {
      "cell_type": "markdown",
      "source": [
        "## 4. Train a Random Forest Regression"
      ],
      "metadata": {
        "id": "MkJ6eVbNsBay"
      }
    },
    {
      "cell_type": "code",
      "source": [
        "rf = RandomForestRegressor(n_estimators=100, random_state=42)\n",
        "rf.fit(X_train, y_train)\n",
        "rf_pred = rf.predict(X_val)\n",
        "rf_rmse = np.sqrt(mean_squared_error(y_val, rf_pred))\n",
        "print(\"Random Forest RMSE:\", rf_rmse)"
      ],
      "metadata": {
        "id": "w_LoDOYHsGo2",
        "colab": {
          "base_uri": "https://localhost:8080/"
        },
        "outputId": "28b80a15-259a-4a62-91cc-3025ef035db4"
      },
      "execution_count": 156,
      "outputs": [
        {
          "output_type": "stream",
          "name": "stdout",
          "text": [
            "Random Forest RMSE: 28470.690412167223\n"
          ]
        }
      ]
    },
    {
      "cell_type": "markdown",
      "source": [
        "- Perform cross validation"
      ],
      "metadata": {
        "id": "5NjU3wKqzpXn"
      }
    },
    {
      "cell_type": "code",
      "source": [
        "rf_cv_rmse = -cross_val_score(rf, X, y, cv=5, scoring=\"neg_root_mean_squared_error\").mean()\n",
        "print(\"Random Forest CV RMSE:\", rf_cv_rmse)"
      ],
      "metadata": {
        "colab": {
          "base_uri": "https://localhost:8080/"
        },
        "id": "mCyPkmBezrKK",
        "outputId": "a115f829-d11c-4b50-abba-f4eb604f3b45"
      },
      "execution_count": 157,
      "outputs": [
        {
          "output_type": "stream",
          "name": "stdout",
          "text": [
            "Random Forest CV RMSE: 29740.489630520016\n"
          ]
        }
      ]
    },
    {
      "cell_type": "markdown",
      "source": [
        "## 5. Compare all the performance of all regression models"
      ],
      "metadata": {
        "id": "3orhk-Vf0Jg-"
      }
    },
    {
      "cell_type": "code",
      "source": [
        "results = pd.DataFrame({\n",
        "    \"Model\": [\"KNN\", \"SVM\", \"Decision Tree\", \"Random Forest\"],\n",
        "    \"Validation RMSE\": [knn_rmse, svm_rmse, dtree_rmse, rf_rmse],\n",
        "    \"CrossVal RMSE\": [knn_cv_rmse, svm_cv_rmse, dtree_cv_rmse, rf_cv_rmse]\n",
        "})\n",
        "\n",
        "print(\"\\n--- Model Comparison ---\")\n",
        "print(results)"
      ],
      "metadata": {
        "id": "r5FUkgck0VY8",
        "colab": {
          "base_uri": "https://localhost:8080/"
        },
        "outputId": "c30322f0-08b0-4dcf-d61c-89af6d50ec33"
      },
      "execution_count": 158,
      "outputs": [
        {
          "output_type": "stream",
          "name": "stdout",
          "text": [
            "\n",
            "--- Model Comparison ---\n",
            "           Model  Validation RMSE  CrossVal RMSE\n",
            "0            KNN     47678.107132   47004.096709\n",
            "1            SVM     88652.804332   81143.803180\n",
            "2  Decision Tree     44508.932359   42703.927235\n",
            "3  Random Forest     28470.690412   29740.489631\n"
          ]
        }
      ]
    },
    {
      "cell_type": "markdown",
      "source": [
        "## 6. Generate Submission File\n",
        "\n",
        "Choose the model that has the best performance to generate a submission file."
      ],
      "metadata": {
        "id": "a6UAAMyepmHi"
      }
    },
    {
      "cell_type": "code",
      "source": [
        "submission_df = pd.DataFrame({\n",
        "    \"Id\": id_col,\n",
        "    \"SalePrice\": y_pred\n",
        "})\n",
        "\n",
        "submission_df.to_csv(\"submission.csv\", index=False)\n",
        "print(\"Submission file created in correct format: submission.csv\")"
      ],
      "metadata": {
        "id": "HrelEEFJpjzI",
        "colab": {
          "base_uri": "https://localhost:8080/"
        },
        "outputId": "207e872f-7bc7-4edb-c136-125aa989b3d4"
      },
      "execution_count": 159,
      "outputs": [
        {
          "output_type": "stream",
          "name": "stdout",
          "text": [
            "Submission file created in correct format: submission.csv\n"
          ]
        }
      ]
    }
  ],
  "metadata": {
    "colab": {
      "provenance": [],
      "include_colab_link": true
    },
    "kernelspec": {
      "display_name": "Python 3",
      "name": "python3"
    },
    "language_info": {
      "name": "python",
      "version": "3.12.4"
    }
  },
  "nbformat": 4,
  "nbformat_minor": 0
}