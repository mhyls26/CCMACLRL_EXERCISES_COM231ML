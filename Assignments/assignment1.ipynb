{
  "nbformat": 4,
  "nbformat_minor": 0,
  "metadata": {
    "colab": {
      "provenance": []
    },
    "kernelspec": {
      "name": "python3",
      "display_name": "Python 3"
    },
    "language_info": {
      "name": "python"
    }
  },
  "cells": [
    {
      "cell_type": "code",
      "execution_count": null,
      "metadata": {
        "colab": {
          "base_uri": "https://localhost:8080/",
          "height": 564
        },
        "id": "ystRcqwfvvh9",
        "outputId": "d64e6f93-ca9d-485f-b192-da1e249254af"
      },
      "outputs": [
        {
          "output_type": "display_data",
          "data": {
            "text/plain": [
              "<Figure size 800x600 with 1 Axes>"
            ],
            "image/png": "[encoded data removed]"
          },
          "metadata": {}
        }
      ],
      "source": [
        "import numpy as np\n",
        "import pandas as pd\n",
        "import matplotlib.pyplot as plt\n",
        "\n",
        "# ----------------------------\n",
        "# Step 1: Define Training Data\n",
        "# ----------------------------\n",
        "data = {\n",
        "    \"Student\": list(range(1,11)),\n",
        "    \"Hours_Studied\": [1.0,2.0,3.0,4.5,5.0,5.5,6.0,7.0,8.0,9.0],\n",
        "    \"Sleep_Hours\": [5.0,5.5,6.0,5.0,6.5,7.0,6.0,7.0,6.0,7.5],\n",
        "    \"PassFail\": [0,0,0,0,1,1,1,1,1,1]\n",
        "}\n",
        "df = pd.DataFrame(data)\n",
        "\n",
        "# Unknown data point\n",
        "unknown_point = {\"Hours_Studied\": 4.0, \"Sleep_Hours\": 6.0}\n",
        "\n",
        "# ----------------------------\n",
        "# Step 1: Scatter Plot\n",
        "# ----------------------------\n",
        "plt.figure(figsize=(8,6))\n",
        "for idx, row in df.iterrows():\n",
        "    if row.PassFail == 0:\n",
        "        plt.scatter(row.Hours_Studied, row.Sleep_Hours, c='blue', marker='o', s=100, label='Fail' if idx==0 else \"\")\n",
        "    else:\n",
        "        plt.scatter(row.Hours_Studied, row.Sleep_Hours, c='red', marker='s', s=100, label='Pass' if idx==4 else \"\")\n",
        "\n",
        "# Unknown data point as yellow star with black outline\n",
        "plt.scatter(unknown_point[\"Hours_Studied\"], unknown_point[\"Sleep_Hours\"],\n",
        "            c='yellow', edgecolors='black', marker='*', s=250, label='Unknown Data Point')\n",
        "\n",
        "plt.title(\"Student Pass/Fail Scatter Plot\")\n",
        "plt.xlabel(\"Hours Studied\")\n",
        "plt.ylabel(\"Sleep Hours\")\n",
        "plt.legend()\n",
        "plt.grid(True)\n",
        "plt.show()"
      ]
    },
    {
      "cell_type": "code",
      "source": [
        "# ----------------------------\n",
        "# Step 2: Compute Euclidean Distances (Clean Table)\n",
        "# ----------------------------\n",
        "df[\"Euclidean_Distance\"] = np.sqrt(\n",
        "    (df[\"Hours_Studied\"] - unknown_point[\"Hours_Studied\"])**2 +\n",
        "    (df[\"Sleep_Hours\"] - unknown_point[\"Sleep_Hours\"])**2\n",
        ")\n",
        "\n",
        "# Set 'Student' as index for clean display and style table\n",
        "df_clean = df.set_index(\"Student\")\n",
        "\n",
        "# Display with bigger font in Colab\n",
        "from IPython.display import display, HTML\n",
        "display(df_clean.style.set_table_styles(\n",
        "    [{'selector': 'th', 'props': [('font-size', '14pt')]},\n",
        "     {'selector': 'td', 'props': [('font-size', '12pt')]}]\n",
        "))"
      ],
      "metadata": {
        "colab": {
          "base_uri": "https://localhost:8080/",
          "height": 520
        },
        "id": "zwFm0t281BDg",
        "outputId": "78ab0e9b-a138-4e1f-fc7f-742f45ada4f2"
      },
      "execution_count": null,
      "outputs": [
        {
          "output_type": "display_data",
          "data": {
            "text/plain": [
              "<pandas.io.formats.style.Styler at 0x7e1370618b30>"
            ],
            "text/html": [
              "<style type=\"text/css\">\n",
              "#T_0675f th {\n",
              "  font-size: 14pt;\n",
              "}\n",
              "#T_0675f td {\n",
              "  font-size: 12pt;\n",
              "}\n",
              "</style>\n",
              "<table id=\"T_0675f\" class=\"dataframe\">\n",
              "  <thead>\n",
              "    <tr>\n",
              "      <th class=\"blank level0\" >&nbsp;</th>\n",
              "      <th id=\"T_0675f_level0_col0\" class=\"col_heading level0 col0\" >Hours_Studied</th>\n",
              "      <th id=\"T_0675f_level0_col1\" class=\"col_heading level0 col1\" >Sleep_Hours</th>\n",
              "      <th id=\"T_0675f_level0_col2\" class=\"col_heading level0 col2\" >PassFail</th>\n",
              "      <th id=\"T_0675f_level0_col3\" class=\"col_heading level0 col3\" >Euclidean_Distance</th>\n",
              "    </tr>\n",
              "    <tr>\n",
              "      <th class=\"index_name level0\" >Student</th>\n",
              "      <th class=\"blank col0\" >&nbsp;</th>\n",
              "      <th class=\"blank col1\" >&nbsp;</th>\n",
              "      <th class=\"blank col2\" >&nbsp;</th>\n",
              "      <th class=\"blank col3\" >&nbsp;</th>\n",
              "    </tr>\n",
              "  </thead>\n",
              "  <tbody>\n",
              "    <tr>\n",
              "      <th id=\"T_0675f_level0_row0\" class=\"row_heading level0 row0\" >1</th>\n",
              "      <td id=\"T_0675f_row0_col0\" class=\"data row0 col0\" >1.000000</td>\n",
              "      <td id=\"T_0675f_row0_col1\" class=\"data row0 col1\" >5.000000</td>\n",
              "      <td id=\"T_0675f_row0_col2\" class=\"data row0 col2\" >0</td>\n",
              "      <td id=\"T_0675f_row0_col3\" class=\"data row0 col3\" >3.162278</td>\n",
              "    </tr>\n",
              "    <tr>\n",
              "      <th id=\"T_0675f_level0_row1\" class=\"row_heading level0 row1\" >2</th>\n",
              "      <td id=\"T_0675f_row1_col0\" class=\"data row1 col0\" >2.000000</td>\n",
              "      <td id=\"T_0675f_row1_col1\" class=\"data row1 col1\" >5.500000</td>\n",
              "      <td id=\"T_0675f_row1_col2\" class=\"data row1 col2\" >0</td>\n",
              "      <td id=\"T_0675f_row1_col3\" class=\"data row1 col3\" >2.061553</td>\n",
              "    </tr>\n",
              "    <tr>\n",
              "      <th id=\"T_0675f_level0_row2\" class=\"row_heading level0 row2\" >3</th>\n",
              "      <td id=\"T_0675f_row2_col0\" class=\"data row2 col0\" >3.000000</td>\n",
              "      <td id=\"T_0675f_row2_col1\" class=\"data row2 col1\" >6.000000</td>\n",
              "      <td id=\"T_0675f_row2_col2\" class=\"data row2 col2\" >0</td>\n",
              "      <td id=\"T_0675f_row2_col3\" class=\"data row2 col3\" >1.000000</td>\n",
              "    </tr>\n",
              "    <tr>\n",
              "      <th id=\"T_0675f_level0_row3\" class=\"row_heading level0 row3\" >4</th>\n",
              "      <td id=\"T_0675f_row3_col0\" class=\"data row3 col0\" >4.500000</td>\n",
              "      <td id=\"T_0675f_row3_col1\" class=\"data row3 col1\" >5.000000</td>\n",
              "      <td id=\"T_0675f_row3_col2\" class=\"data row3 col2\" >0</td>\n",
              "      <td id=\"T_0675f_row3_col3\" class=\"data row3 col3\" >1.118034</td>\n",
              "    </tr>\n",
              "    <tr>\n",
              "      <th id=\"T_0675f_level0_row4\" class=\"row_heading level0 row4\" >5</th>\n",
              "      <td id=\"T_0675f_row4_col0\" class=\"data row4 col0\" >5.000000</td>\n",
              "      <td id=\"T_0675f_row4_col1\" class=\"data row4 col1\" >6.500000</td>\n",
              "      <td id=\"T_0675f_row4_col2\" class=\"data row4 col2\" >1</td>\n",
              "      <td id=\"T_0675f_row4_col3\" class=\"data row4 col3\" >1.118034</td>\n",
              "    </tr>\n",
              "    <tr>\n",
              "      <th id=\"T_0675f_level0_row5\" class=\"row_heading level0 row5\" >6</th>\n",
              "      <td id=\"T_0675f_row5_col0\" class=\"data row5 col0\" >5.500000</td>\n",
              "      <td id=\"T_0675f_row5_col1\" class=\"data row5 col1\" >7.000000</td>\n",
              "      <td id=\"T_0675f_row5_col2\" class=\"data row5 col2\" >1</td>\n",
              "      <td id=\"T_0675f_row5_col3\" class=\"data row5 col3\" >1.802776</td>\n",
              "    </tr>\n",
              "    <tr>\n",
              "      <th id=\"T_0675f_level0_row6\" class=\"row_heading level0 row6\" >7</th>\n",
              "      <td id=\"T_0675f_row6_col0\" class=\"data row6 col0\" >6.000000</td>\n",
              "      <td id=\"T_0675f_row6_col1\" class=\"data row6 col1\" >6.000000</td>\n",
              "      <td id=\"T_0675f_row6_col2\" class=\"data row6 col2\" >1</td>\n",
              "      <td id=\"T_0675f_row6_col3\" class=\"data row6 col3\" >2.000000</td>\n",
              "    </tr>\n",
              "    <tr>\n",
              "      <th id=\"T_0675f_level0_row7\" class=\"row_heading level0 row7\" >8</th>\n",
              "      <td id=\"T_0675f_row7_col0\" class=\"data row7 col0\" >7.000000</td>\n",
              "      <td id=\"T_0675f_row7_col1\" class=\"data row7 col1\" >7.000000</td>\n",
              "      <td id=\"T_0675f_row7_col2\" class=\"data row7 col2\" >1</td>\n",
              "      <td id=\"T_0675f_row7_col3\" class=\"data row7 col3\" >3.162278</td>\n",
              "    </tr>\n",
              "    <tr>\n",
              "      <th id=\"T_0675f_level0_row8\" class=\"row_heading level0 row8\" >9</th>\n",
              "      <td id=\"T_0675f_row8_col0\" class=\"data row8 col0\" >8.000000</td>\n",
              "      <td id=\"T_0675f_row8_col1\" class=\"data row8 col1\" >6.000000</td>\n",
              "      <td id=\"T_0675f_row8_col2\" class=\"data row8 col2\" >1</td>\n",
              "      <td id=\"T_0675f_row8_col3\" class=\"data row8 col3\" >4.000000</td>\n",
              "    </tr>\n",
              "    <tr>\n",
              "      <th id=\"T_0675f_level0_row9\" class=\"row_heading level0 row9\" >10</th>\n",
              "      <td id=\"T_0675f_row9_col0\" class=\"data row9 col0\" >9.000000</td>\n",
              "      <td id=\"T_0675f_row9_col1\" class=\"data row9 col1\" >7.500000</td>\n",
              "      <td id=\"T_0675f_row9_col2\" class=\"data row9 col2\" >1</td>\n",
              "      <td id=\"T_0675f_row9_col3\" class=\"data row9 col3\" >5.220153</td>\n",
              "    </tr>\n",
              "  </tbody>\n",
              "</table>\n"
            ]
          },
          "metadata": {}
        }
      ]
    },
    {
      "cell_type": "code",
      "source": [
        "# ----------------------------\n",
        "# Step 3: Find the 3 Nearest Neighbors (Clean Table)\n",
        "# ----------------------------\n",
        "k = 3\n",
        "nearest_neighbors = df.nsmallest(k, \"Euclidean_Distance\")\n",
        "\n",
        "# Set 'Student' as index for clean display\n",
        "nearest_neighbors_clean = nearest_neighbors.set_index(\"Student\")\n",
        "\n",
        "print(f\"=== Step 3: {k} Nearest Neighbors ===\")\n",
        "from IPython.display import display, HTML\n",
        "display(nearest_neighbors_clean.style.set_table_styles(\n",
        "    [{'selector': 'th', 'props': [('font-size', '14pt')]},\n",
        "     {'selector': 'td', 'props': [('font-size', '12pt')]}]\n",
        "))\n"
      ],
      "metadata": {
        "colab": {
          "base_uri": "https://localhost:8080/",
          "height": 244
        },
        "id": "yQWBdCm_1JKC",
        "outputId": "73017d74-4991-472f-b151-e1decb440b41"
      },
      "execution_count": null,
      "outputs": [
        {
          "output_type": "stream",
          "name": "stdout",
          "text": [
            "=== Step 3: 3 Nearest Neighbors ===\n"
          ]
        },
        {
          "output_type": "display_data",
          "data": {
            "text/plain": [
              "<pandas.io.formats.style.Styler at 0x7e135a840a40>"
            ],
            "text/html": [
              "<style type=\"text/css\">\n",
              "#T_cf9c5 th {\n",
              "  font-size: 14pt;\n",
              "}\n",
              "#T_cf9c5 td {\n",
              "  font-size: 12pt;\n",
              "}\n",
              "</style>\n",
              "<table id=\"T_cf9c5\" class=\"dataframe\">\n",
              "  <thead>\n",
              "    <tr>\n",
              "      <th class=\"blank level0\" >&nbsp;</th>\n",
              "      <th id=\"T_cf9c5_level0_col0\" class=\"col_heading level0 col0\" >Hours_Studied</th>\n",
              "      <th id=\"T_cf9c5_level0_col1\" class=\"col_heading level0 col1\" >Sleep_Hours</th>\n",
              "      <th id=\"T_cf9c5_level0_col2\" class=\"col_heading level0 col2\" >PassFail</th>\n",
              "      <th id=\"T_cf9c5_level0_col3\" class=\"col_heading level0 col3\" >Euclidean_Distance</th>\n",
              "    </tr>\n",
              "    <tr>\n",
              "      <th class=\"index_name level0\" >Student</th>\n",
              "      <th class=\"blank col0\" >&nbsp;</th>\n",
              "      <th class=\"blank col1\" >&nbsp;</th>\n",
              "      <th class=\"blank col2\" >&nbsp;</th>\n",
              "      <th class=\"blank col3\" >&nbsp;</th>\n",
              "    </tr>\n",
              "  </thead>\n",
              "  <tbody>\n",
              "    <tr>\n",
              "      <th id=\"T_cf9c5_level0_row0\" class=\"row_heading level0 row0\" >3</th>\n",
              "      <td id=\"T_cf9c5_row0_col0\" class=\"data row0 col0\" >3.000000</td>\n",
              "      <td id=\"T_cf9c5_row0_col1\" class=\"data row0 col1\" >6.000000</td>\n",
              "      <td id=\"T_cf9c5_row0_col2\" class=\"data row0 col2\" >0</td>\n",
              "      <td id=\"T_cf9c5_row0_col3\" class=\"data row0 col3\" >1.000000</td>\n",
              "    </tr>\n",
              "    <tr>\n",
              "      <th id=\"T_cf9c5_level0_row1\" class=\"row_heading level0 row1\" >4</th>\n",
              "      <td id=\"T_cf9c5_row1_col0\" class=\"data row1 col0\" >4.500000</td>\n",
              "      <td id=\"T_cf9c5_row1_col1\" class=\"data row1 col1\" >5.000000</td>\n",
              "      <td id=\"T_cf9c5_row1_col2\" class=\"data row1 col2\" >0</td>\n",
              "      <td id=\"T_cf9c5_row1_col3\" class=\"data row1 col3\" >1.118034</td>\n",
              "    </tr>\n",
              "    <tr>\n",
              "      <th id=\"T_cf9c5_level0_row2\" class=\"row_heading level0 row2\" >5</th>\n",
              "      <td id=\"T_cf9c5_row2_col0\" class=\"data row2 col0\" >5.000000</td>\n",
              "      <td id=\"T_cf9c5_row2_col1\" class=\"data row2 col1\" >6.500000</td>\n",
              "      <td id=\"T_cf9c5_row2_col2\" class=\"data row2 col2\" >1</td>\n",
              "      <td id=\"T_cf9c5_row2_col3\" class=\"data row2 col3\" >1.118034</td>\n",
              "    </tr>\n",
              "  </tbody>\n",
              "</table>\n"
            ]
          },
          "metadata": {}
        }
      ]
    },
    {
      "cell_type": "code",
      "source": [
        "pass_count = nearest_neighbors[\"PassFail\"].sum()\n",
        "fail_count = k - pass_count\n",
        "prediction = 1 if pass_count > fail_count else 0\n",
        "\n",
        "print(\"=== Step 4: Majority Vote ===\")\n",
        "print(f\"Pass (1) count: {pass_count}\")\n",
        "print(f\"Fail (0) count: {fail_count}\")\n",
        "print(f\"Prediction for the unknown data point: {'Pass' if prediction==1 else 'Fail'}\")\n"
      ],
      "metadata": {
        "colab": {
          "base_uri": "https://localhost:8080/"
        },
        "id": "u-__ksU31M-q",
        "outputId": "f72b5407-423d-4b32-a29f-96bc76de6133"
      },
      "execution_count": null,
      "outputs": [
        {
          "output_type": "stream",
          "name": "stdout",
          "text": [
            "=== Step 4: Majority Vote ===\n",
            "Pass (1) count: 1\n",
            "Fail (0) count: 2\n",
            "Prediction for the unknown data point: Fail\n"
          ]
        }
      ]
    },
    {
      "cell_type": "code",
      "source": [
        "print(\"=== Step 5: Discussion Questions ===\")\n",
        "print(\"1. Final prediction: \", \"Fail\" if prediction==0 else \"Pass\")\n",
        "\n",
        "# Example: k=5 prediction\n",
        "k5_neighbors = df.nsmallest(5, \"Euclidean_Distance\")\n",
        "pass_count_k5 = k5_neighbors[\"PassFail\"].sum()\n",
        "fail_count_k5 = 5 - pass_count_k5\n",
        "prediction_k5 = 1 if pass_count_k5 > fail_count_k5 else 0\n",
        "print(\"2. Prediction if k=5: \", \"Pass\" if prediction_k5==1 else \"Fail\")"
      ],
      "metadata": {
        "colab": {
          "base_uri": "https://localhost:8080/"
        },
        "id": "rCdrZIlc1RyN",
        "outputId": "e55a3b90-6bc3-4982-a814-ff3c838e66c9"
      },
      "execution_count": null,
      "outputs": [
        {
          "output_type": "stream",
          "name": "stdout",
          "text": [
            "=== Step 5: Discussion Questions ===\n",
            "1. Final prediction:  Fail\n",
            "2. Prediction if k=5:  Pass\n"
          ]
        }
      ]
    },
    {
      "cell_type": "markdown",
      "source": [],
      "metadata": {
        "id": "Pp-7_1Jd1ETB"
      }
    }
  ]
}